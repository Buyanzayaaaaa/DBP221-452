{
 "cells": [
  {
   "cell_type": "code",
   "execution_count": null,
   "metadata": {},
   "outputs": [],
   "source": [
    "n = int(input(\"Garaas oruulsan utga\"))\n",
    "for i in range(1, n + 1):\n",
    "    for j in range(1, i +1):\n",
    "        i = '*'\n",
    "        print(i, end =\"\")\n",
    "    print()"
   ]
  },
  {
   "cell_type": "code",
   "execution_count": null,
   "metadata": {
    "scrolled": true
   },
   "outputs": [],
   "source": [
    "n = int(input())\n",
    "for i in range(1, n + 1):\n",
    "    k = ['*'*i]\n",
    "    for j in k:\n",
    "        print(j)\n",
    "n = int(input())\n",
    "for i in range(1, n +1):\n",
    "    for j in range(1, i + 1):\n",
    "        i = '*'\n",
    "        print(i, end = \"\")\n",
    "print(i)\n"
   ]
  },
  {
   "cell_type": "code",
   "execution_count": null,
   "metadata": {},
   "outputs": [],
   "source": [
    "import operator\n",
    "students = {\n",
    "    'Bat':18,\n",
    "    'Oyun':22,\n",
    "    'Dulam':21,\n",
    "    'Suren':20\n",
    "}\n",
    "a = min(students, key = students.get)\n",
    "x = students[min(students, key = students.get)]\n",
    "print(a,x)\n",
    "b = max(students, key = students.get)\n",
    "print(b)\n",
    "print(x)"
   ]
  },
  {
   "cell_type": "code",
   "execution_count": 4,
   "metadata": {},
   "outputs": [
    {
     "name": "stdout",
     "output_type": "stream",
     "text": [
      "84\n"
     ]
    }
   ],
   "source": [
    "import numpy as np\n",
    "arr1 = np.arange(1,20)\n",
    "n = 0\n",
    "for i in arr1:\n",
    "    if i % 3 == 0 or i % 7 == 0:\n",
    "        n = n + i\n",
    "print(n)\n",
    "\n",
    "\n",
    "        "
   ]
  },
  {
   "cell_type": "code",
   "execution_count": null,
   "metadata": {},
   "outputs": [],
   "source": []
  },
  {
   "cell_type": "code",
   "execution_count": null,
   "metadata": {},
   "outputs": [],
   "source": []
  },
  {
   "cell_type": "code",
   "execution_count": null,
   "metadata": {},
   "outputs": [],
   "source": []
  }
 ],
 "metadata": {
  "kernelspec": {
   "display_name": "Python 3",
   "language": "python",
   "name": "python3"
  },
  "language_info": {
   "codemirror_mode": {
    "name": "ipython",
    "version": 3
   },
   "file_extension": ".py",
   "mimetype": "text/x-python",
   "name": "python",
   "nbconvert_exporter": "python",
   "pygments_lexer": "ipython3",
   "version": "3.8.5"
  }
 },
 "nbformat": 4,
 "nbformat_minor": 4
}
