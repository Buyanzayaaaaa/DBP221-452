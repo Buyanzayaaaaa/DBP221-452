{
 "cells": [
  {
   "cell_type": "code",
   "execution_count": 3,
   "metadata": {},
   "outputs": [
    {
     "name": "stdout",
     "output_type": "stream",
     "text": [
      "0    1.0\n",
      "1    NaN\n",
      "2    3.0\n",
      "3    4.0\n",
      "dtype: float64\n",
      "0    1\n",
      "1     \n",
      "2    3\n",
      "3    4\n",
      "dtype: object\n",
      "0    1.0\n",
      "1    NaN\n",
      "2    3.0\n",
      "3    4.0\n",
      "dtype: float64\n"
     ]
    }
   ],
   "source": [
    "import numpy as np\n",
    "import pandas as pd\n",
    "###NAN, NONE\n",
    "vals1 = pd.Series([1, None,3,4]) ###yu c bhgushu gj  bga\n",
    "print(vals1)\n",
    "vals2 = pd.Series([1,'',3,4]) ###hooson tmdeg\n",
    "print(vals2)\n",
    "vals3 = pd.Series([1,np.nan,3,4])\n",
    "print(vals3)\n",
    "##3panda deer NONE, esvel np.nan aar ilerhiilgdn"
   ]
  },
  {
   "cell_type": "code",
   "execution_count": 4,
   "metadata": {},
   "outputs": [
    {
     "name": "stdout",
     "output_type": "stream",
     "text": [
      "8.0\n",
      "4.0\n",
      "1.0\n",
      "2.6666666666666665\n"
     ]
    }
   ],
   "source": [
    "print(vals1.sum())\n",
    "print(vals1.max())\n",
    "print(vals1.min())\n",
    "print(vals1.mean())"
   ]
  },
  {
   "cell_type": "code",
   "execution_count": 9,
   "metadata": {},
   "outputs": [
    {
     "data": {
      "text/plain": [
       "array([ 1., nan,  2.,  3.])"
      ]
     },
     "execution_count": 9,
     "metadata": {},
     "output_type": "execute_result"
    }
   ],
   "source": [
    "vals2 = np.array([1, np.nan,2,3])\n",
    "vals2 ###"
   ]
  },
  {
   "cell_type": "code",
   "execution_count": 10,
   "metadata": {},
   "outputs": [
    {
     "data": {
      "text/plain": [
       "0    1.0\n",
       "1    NaN\n",
       "2    3.0\n",
       "3    NaN\n",
       "dtype: float64"
      ]
     },
     "execution_count": 10,
     "metadata": {},
     "output_type": "execute_result"
    }
   ],
   "source": [
    "data = pd.Series([1, None, 3, np.nan])\n",
    "data"
   ]
  },
  {
   "cell_type": "code",
   "execution_count": 12,
   "metadata": {},
   "outputs": [
    {
     "ename": "SyntaxError",
     "evalue": "invalid syntax (<ipython-input-12-2927ec98a18c>, line 4)",
     "output_type": "error",
     "traceback": [
      "\u001b[1;36m  File \u001b[1;32m\"<ipython-input-12-2927ec98a18c>\"\u001b[1;36m, line \u001b[1;32m4\u001b[0m\n\u001b[1;33m    df.dropna(axis = 1) moroor ni esvel baganaar ni ustaga\u001b[0m\n\u001b[1;37m                        ^\u001b[0m\n\u001b[1;31mSyntaxError\u001b[0m\u001b[1;31m:\u001b[0m invalid syntax\n"
     ]
    }
   ],
   "source": [
    "df = data\n",
    "\n",
    "df.dropna() ### na baih ym bol ustaga\n",
    "df.dropna(axis = 1) moroor ni esvel baganaar ni ustaga\n",
    "##tuhain nan iig shiidverleh bol fill hiine\n",
    "df.dropna(axis =1, how = 'any') ##any ur dun oorchlogdhgu, ! nan taarvl ter chigt ni ustgay\n",
    "df.dropna(axis =1, how = 'all') ###bugdig ni ustgana."
   ]
  },
  {
   "cell_type": "code",
   "execution_count": 18,
   "metadata": {},
   "outputs": [
    {
     "data": {
      "text/plain": [
       "a    1.0\n",
       "c    2.0\n",
       "e    3.0\n",
       "dtype: float64"
      ]
     },
     "execution_count": 18,
     "metadata": {},
     "output_type": "execute_result"
    }
   ],
   "source": [
    "data = pd.Series([1, np.nan, 2, None,3], index = list('abcde'))\n",
    "data\n",
    "data.dropna(how = 'all')"
   ]
  },
  {
   "cell_type": "code",
   "execution_count": 23,
   "metadata": {},
   "outputs": [
    {
     "data": {
      "text/plain": [
       "a    1\n",
       "b    a\n",
       "c    2\n",
       "d    a\n",
       "e    3\n",
       "dtype: object"
      ]
     },
     "execution_count": 23,
     "metadata": {},
     "output_type": "execute_result"
    }
   ],
   "source": [
    "data.fillna(method = 'bfill') ### back fill8 daraagin utgaa avaad ooriigoo duurgene\n",
    "###ffill - omnohoo avaad ooriigooo duurgene\n",
    "data.fillna('a') ##bugdiig ni a usgeer bichih ged yuc bj bln\n"
   ]
  },
  {
   "cell_type": "code",
   "execution_count": 17,
   "metadata": {},
   "outputs": [],
   "source": [
    "xl = pd.read_excel() ###python ajillaj baigaa gzraa avaachij huulna"
   ]
  },
  {
   "cell_type": "code",
   "execution_count": null,
   "metadata": {},
   "outputs": [],
   "source": [
    "# xl.isnull()\n",
    "# xl.notnull()"
   ]
  }
 ],
 "metadata": {
  "kernelspec": {
   "display_name": "Python 3",
   "language": "python",
   "name": "python3"
  },
  "language_info": {
   "codemirror_mode": {
    "name": "ipython",
    "version": 3
   },
   "file_extension": ".py",
   "mimetype": "text/x-python",
   "name": "python",
   "nbconvert_exporter": "python",
   "pygments_lexer": "ipython3",
   "version": "3.8.5"
  }
 },
 "nbformat": 4,
 "nbformat_minor": 4
}
