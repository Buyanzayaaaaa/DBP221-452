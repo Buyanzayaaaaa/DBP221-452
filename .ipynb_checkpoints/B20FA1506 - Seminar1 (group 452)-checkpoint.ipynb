{
 "cells": [
  {
   "cell_type": "code",
   "execution_count": 2,
   "metadata": {},
   "outputs": [
    {
     "name": "stdout",
     "output_type": "stream",
     "text": [
      "python\n",
      "php\n",
      "java\n"
     ]
    }
   ],
   "source": [
    "#1\n",
    "list1 = ['python','php', 'java']\n",
    "print(list1[0])\n",
    "print(list1[1])\n",
    "print(list1[2])"
   ]
  },
  {
   "cell_type": "code",
   "execution_count": 5,
   "metadata": {},
   "outputs": [
    {
     "name": "stdout",
     "output_type": "stream",
     "text": [
      "total: 223\n"
     ]
    }
   ],
   "source": [
    "#2\n",
    "list2 = [1, 3, 5, 10, 13, 55, 55, 66, 7, 8]\n",
    "n = 0\n",
    "for i in range(0, len(list2)):\n",
    "    n = n +list2[i]\n",
    "print(\"total:\", n)"
   ]
  },
  {
   "cell_type": "code",
   "execution_count": 8,
   "metadata": {},
   "outputs": [
    {
     "name": "stdout",
     "output_type": "stream",
     "text": [
      "42504264\n"
     ]
    }
   ],
   "source": [
    "#3\n",
    "list3 = [2, 66, 54, 67, 89]\n",
    "n = 1\n",
    "for i in range(0, len(list3)):\n",
    "    n = n * list3[i]\n",
    "print(n)"
   ]
  },
  {
   "cell_type": "code",
   "execution_count": 23,
   "metadata": {},
   "outputs": [
    {
     "data": {
      "text/plain": [
       "24"
      ]
     },
     "execution_count": 23,
     "metadata": {},
     "output_type": "execute_result"
    }
   ],
   "source": [
    "#4\n",
    "def add(*params):\n",
    "    a = my_list[2]\n",
    "    b = my_list[-1]\n",
    "    x = a * b\n",
    "    return x\n",
    "    \n",
    "my_list = [1,2,3,8,8]\n",
    "\n",
    "add(*my_list)\n"
   ]
  },
  {
   "cell_type": "code",
   "execution_count": 28,
   "metadata": {},
   "outputs": [
    {
     "data": {
      "text/plain": [
       "(677, 2)"
      ]
     },
     "execution_count": 28,
     "metadata": {},
     "output_type": "execute_result"
    }
   ],
   "source": [
    "#5\n",
    "def x(list5):\n",
    "    a = max(list5)\n",
    "    b = min(list5)\n",
    "    x =(a,b)\n",
    "    return x\n",
    "list5 = [2,4,55,6,677,88,67,55,4]\n",
    "x(list5)\n"
   ]
  },
  {
   "cell_type": "code",
   "execution_count": 44,
   "metadata": {},
   "outputs": [
    {
     "name": "stdout",
     "output_type": "stream",
     "text": [
      "3\n"
     ]
    }
   ],
   "source": [
    "#6\n",
    "list6= ['abc', 'xyz', 'aba', '1221','abccba']\n",
    "n=0;\n",
    "for i in list6:\n",
    "    if (len(i)>=2 and i[0]==i[-1]):\n",
    "        n = n+1\n",
    "print(n)"
   ]
  },
  {
   "cell_type": "code",
   "execution_count": 5,
   "metadata": {},
   "outputs": [
    {
     "name": "stdout",
     "output_type": "stream",
     "text": [
      "['a', 'x', 'y', 'b', 'c', '4', 'abcd']\n"
     ]
    }
   ],
   "source": [
    "#7\n",
    "list7 = ['a','x','a','y','a','b','b','c','4','4', 'abcd', 'abcd']\n",
    "list7 = dict.fromkeys(my_list)\n",
    "print(list(my_final_list))"
   ]
  },
  {
   "cell_type": "code",
   "execution_count": 12,
   "metadata": {},
   "outputs": [
    {
     "name": "stdout",
     "output_type": "stream",
     "text": [
      "List is Empty\n"
     ]
    }
   ],
   "source": [
    "#8\n",
    "list8 = []\n",
    "if list8:\n",
    "    print(\"List is not empty\")\n",
    "else:\n",
    "    print(\"List is Empty\")"
   ]
  },
  {
   "cell_type": "code",
   "execution_count": 26,
   "metadata": {},
   "outputs": [
    {
     "name": "stdout",
     "output_type": "stream",
     "text": [
      "['agaga', 17, 18, 23, 33, 5, 6]\n"
     ]
    }
   ],
   "source": [
    "#9\n",
    "list9 = ['agaga', 17, 18, 23, 50, 33, 44, 5, 56, 6]\n",
    "list_anti_9 = [4, 6, 8]\n",
    "for i in sorted(list_anti_9, reverse = True):\n",
    "    del list9[i]\n",
    "print(list9)\n"
   ]
  },
  {
   "cell_type": "code",
   "execution_count": 47,
   "metadata": {},
   "outputs": [
    {
     "name": "stdout",
     "output_type": "stream",
     "text": [
      "(1, 4, 5, 6, 4, 7, 3, 8, 7, 6, 8)\n"
     ]
    }
   ],
   "source": [
    "#10 \n",
    "tuple1 = (1,4,5,6,4,7,3,8,7,6,8)\n",
    "#11\n",
    "y = list(tuple1)\n",
    "y.extend([14,9])\n",
    "tuple1 = tuple(y)\n",
    "print(tuple1)"
   ]
  },
  {
   "cell_type": "code",
   "execution_count": 40,
   "metadata": {},
   "outputs": [
    {
     "name": "stdout",
     "output_type": "stream",
     "text": [
      "(5, 14)\n"
     ]
    }
   ],
   "source": [
    "#12 gishuun nemsen tuple-r ajillasan\n",
    "a = tuple1[2], tuple1[-2]\n",
    "print(a)"
   ]
  },
  {
   "cell_type": "code",
   "execution_count": 49,
   "metadata": {},
   "outputs": [
    {
     "name": "stdout",
     "output_type": "stream",
     "text": [
      "Is tuple distinct ? : False\n"
     ]
    }
   ],
   "source": [
    "# #13 \n",
    "# res = True \n",
    "# temp = set()\n",
    "# for ele in tuple1:\n",
    "#     if ele in temp:\n",
    "#         res = False \n",
    "#         break\n",
    "#     temp.add(ele)\n",
    "# print(\"Is tuple distinct ? : \" + str(res))"
   ]
  },
  {
   "cell_type": "code",
   "execution_count": 55,
   "metadata": {},
   "outputs": [
    {
     "name": "stdout",
     "output_type": "stream",
     "text": [
      "1\n",
      "4\n",
      "5\n",
      "6\n",
      "4\n",
      "7\n",
      "3\n",
      "8\n",
      "7\n",
      "6\n",
      "8\n",
      "A\n",
      "B\n",
      "C\n"
     ]
    }
   ],
   "source": [
    "#14\n",
    "for i in tuple1:\n",
    "    print(i)\n",
    "mytuple = ('A', 'B', 'C')\n",
    "\n",
    "for item in mytuple:\n",
    "    print(str(item[0]))   "
   ]
  },
  {
   "cell_type": "code",
   "execution_count": 58,
   "metadata": {},
   "outputs": [
    {
     "name": "stdout",
     "output_type": "stream",
     "text": [
      "{'tomato', 'banana', 'kiwi', 'apple', 'cabbage', 'onion', 'potato', 'pear', 'orange'}\n"
     ]
    }
   ],
   "source": [
    "#15\n",
    "set1 = {'orange', 'apple', 'pear', 'banana', 'kiwi', 'apple', 'banana'}\n",
    "set2 = {'tomato', 'potato','cabbage', 'onion','kiwi', 'apple'}\n",
    "set3 = set1.union(set2)\n",
    "print(set3)"
   ]
  },
  {
   "cell_type": "code",
   "execution_count": 63,
   "metadata": {},
   "outputs": [
    {
     "name": "stdout",
     "output_type": "stream",
     "text": [
      "{'kiwi', 'apple'}\n"
     ]
    }
   ],
   "source": [
    "#16\n",
    "set1 = {'orange', 'apple', 'pear', 'banana', 'kiwi', 'apple', 'banana'}\n",
    "set2 = {'tomato', 'potato','cabbage', 'onion','kiwi', 'apple','onion'}\n",
    "a = set1.intersection(set2)\n",
    "print(a)"
   ]
  },
  {
   "cell_type": "code",
   "execution_count": 64,
   "metadata": {},
   "outputs": [
    {
     "name": "stdout",
     "output_type": "stream",
     "text": [
      "6\n"
     ]
    }
   ],
   "source": [
    "#17\n",
    "print(len(set2))"
   ]
  },
  {
   "cell_type": "code",
   "execution_count": 72,
   "metadata": {},
   "outputs": [
    {
     "name": "stdout",
     "output_type": "stream",
     "text": [
      "{'tomato', 'kiwi', 'apple', 'cabbage', 'onion'}\n"
     ]
    }
   ],
   "source": [
    "#18\n",
    "set2.discard('potato')\n",
    "print(set2)"
   ]
  },
  {
   "cell_type": "code",
   "execution_count": 73,
   "metadata": {},
   "outputs": [
    {
     "name": "stdout",
     "output_type": "stream",
     "text": [
      "set()\n"
     ]
    }
   ],
   "source": [
    "#19\n",
    "set1.clear()\n",
    "print(set1)\n"
   ]
  },
  {
   "cell_type": "code",
   "execution_count": 74,
   "metadata": {},
   "outputs": [
    {
     "ename": "NameError",
     "evalue": "name 'set1' is not defined",
     "output_type": "error",
     "traceback": [
      "\u001b[1;31m---------------------------------------------------------------------------\u001b[0m",
      "\u001b[1;31mNameError\u001b[0m                                 Traceback (most recent call last)",
      "\u001b[1;32m<ipython-input-74-047e18d2f5d8>\u001b[0m in \u001b[0;36m<module>\u001b[1;34m\u001b[0m\n\u001b[0;32m      1\u001b[0m \u001b[1;31m#20\u001b[0m\u001b[1;33m\u001b[0m\u001b[1;33m\u001b[0m\u001b[1;33m\u001b[0m\u001b[0m\n\u001b[0;32m      2\u001b[0m \u001b[1;32mdel\u001b[0m \u001b[0mset1\u001b[0m\u001b[1;33m\u001b[0m\u001b[1;33m\u001b[0m\u001b[0m\n\u001b[1;32m----> 3\u001b[1;33m \u001b[0mprint\u001b[0m\u001b[1;33m(\u001b[0m\u001b[0mset1\u001b[0m\u001b[1;33m)\u001b[0m\u001b[1;33m\u001b[0m\u001b[1;33m\u001b[0m\u001b[0m\n\u001b[0m",
      "\u001b[1;31mNameError\u001b[0m: name 'set1' is not defined"
     ]
    }
   ],
   "source": [
    "#20\n",
    "del set1\n",
    "print(set1)"
   ]
  },
  {
   "cell_type": "code",
   "execution_count": 85,
   "metadata": {},
   "outputs": [
    {
     "name": "stdout",
     "output_type": "stream",
     "text": [
      "osch bui :  [(0, 0), (2, 1), (1, 2), (4, 3), (3, 4)]\n",
      "Buurch bui :  {3: 4, 4: 3, 1: 2, 2: 1, 0: 0}\n"
     ]
    }
   ],
   "source": [
    "#21\n",
    "import operator\n",
    "dict1 = {1: 2, 3: 4, 4: 3, 2: 1, 0: 0}\n",
    "sorted_dict1 = sorted(dict1.items(), key=operator.itemgetter(1))\n",
    "print('osch bui : ',sorted_dict1)\n",
    "sorted_dict1 = dict( sorted(dict1.items(), key=operator.itemgetter(1),reverse=True))\n",
    "print('Buurch bui : ',sorted_dict1)"
   ]
  },
  {
   "cell_type": "code",
   "execution_count": 91,
   "metadata": {},
   "outputs": [
    {
     "name": "stdout",
     "output_type": "stream",
     "text": [
      "Key dict-d baina\n"
     ]
    }
   ],
   "source": [
    "#22\n",
    "key = 1\n",
    "if key in dict1:\n",
    "    print(\"Key dict-d baina\")\n",
    "else:\n",
    "    print(\"key dict-d baihgui baina\")"
   ]
  },
  {
   "cell_type": "code",
   "execution_count": 92,
   "metadata": {},
   "outputs": [
    {
     "name": "stdout",
     "output_type": "stream",
     "text": [
      "Value dict-d baina\n"
     ]
    }
   ],
   "source": [
    "#23\n",
    "value = 2\n",
    "if value in dict1:\n",
    "    print(\"Value dict-d baina\")\n",
    "else:\n",
    "    print(\"Value dict-d baihgui baina\")"
   ]
  },
  {
   "cell_type": "code",
   "execution_count": 94,
   "metadata": {},
   "outputs": [
    {
     "name": "stdout",
     "output_type": "stream",
     "text": [
      "1 2\n",
      "3 4\n",
      "4 3\n",
      "2 1\n",
      "0 0\n"
     ]
    }
   ],
   "source": [
    "#24\n",
    "for x,y in dict1.items():\n",
    "    print(x,y)"
   ]
  },
  {
   "cell_type": "code",
   "execution_count": 97,
   "metadata": {},
   "outputs": [
    {
     "data": {
      "text/plain": [
       "{1: 2, 3: 4, 4: 3, 2: 1, 0: 0, 9: 3, 10: 4, 11: 5, 8: 6, 6: 8}"
      ]
     },
     "execution_count": 97,
     "metadata": {},
     "output_type": "execute_result"
    }
   ],
   "source": [
    "#25\n",
    "dict2 = {9: 3, 10: 4, 11: 5, 8: 6, 6: 8 }\n",
    "y = dict1.update(dict2)\n",
    "#dict 1 iig dict2 - oor update hiij shinechlev\n",
    "dict1\n"
   ]
  },
  {
   "cell_type": "code",
   "execution_count": 98,
   "metadata": {},
   "outputs": [
    {
     "name": "stdout",
     "output_type": "stream",
     "text": [
      "36\n"
     ]
    }
   ],
   "source": [
    "#26\n",
    "value = dict1.values()\n",
    "total = sum(value)\n",
    "print(total)"
   ]
  },
  {
   "cell_type": "code",
   "execution_count": null,
   "metadata": {},
   "outputs": [],
   "source": []
  }
 ],
 "metadata": {
  "kernelspec": {
   "display_name": "Python 3",
   "language": "python",
   "name": "python3"
  },
  "language_info": {
   "codemirror_mode": {
    "name": "ipython",
    "version": 3
   },
   "file_extension": ".py",
   "mimetype": "text/x-python",
   "name": "python",
   "nbconvert_exporter": "python",
   "pygments_lexer": "ipython3",
   "version": "3.8.5"
  }
 },
 "nbformat": 4,
 "nbformat_minor": 4
}
