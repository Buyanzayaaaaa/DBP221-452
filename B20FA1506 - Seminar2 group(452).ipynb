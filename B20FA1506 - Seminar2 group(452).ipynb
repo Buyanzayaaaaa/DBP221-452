{
 "cells": [
  {
   "cell_type": "code",
   "execution_count": 20,
   "metadata": {},
   "outputs": [
    {
     "name": "stdout",
     "output_type": "stream",
     "text": [
      "121\n",
      "Палиндром мөн байна\n"
     ]
    }
   ],
   "source": [
    "#1\n",
    "def isPalindrome(x):\n",
    "     if x==x[::-1]:\n",
    "        return \"Палиндром мөн байна\"\n",
    "     else:\n",
    "        return \"Палиндром биш\"\n",
    "y = input()\n",
    "print(isPalindrome(y))\n"
   ]
  },
  {
   "cell_type": "code",
   "execution_count": 1,
   "metadata": {},
   "outputs": [
    {
     "name": "stdout",
     "output_type": "stream",
     "text": [
      "(5, 7)\n"
     ]
    }
   ],
   "source": [
    "#2\n",
    "import re\n",
    "def upper_lower(n):\n",
    "    lower = len(re.findall(\"[a-z]\", n))\n",
    "    upper = len(re.findall(\"[A-Z]\", n))\n",
    "    return lower, upper\n",
    "x = \"SEMINAR hoyor\"\n",
    "print(upper_lower(x))\n",
    "    \n",
    "\n"
   ]
  },
  {
   "cell_type": "code",
   "execution_count": null,
   "metadata": {},
   "outputs": [],
   "source": []
  },
  {
   "cell_type": "code",
   "execution_count": 37,
   "metadata": {},
   "outputs": [
    {
     "name": "stdout",
     "output_type": "stream",
     "text": [
      "6\n",
      "24\n"
     ]
    }
   ],
   "source": [
    "#3\n",
    "def multiply(myList) :\n",
    "    result = 1\n",
    "    for i in myList:\n",
    "         result = result * i\n",
    "    return result\n",
    "     \n",
    "list1 = [1, 2, 3]\n",
    "list2 = [3, 2, 4]\n",
    "print(multiply(list1))\n",
    "print(multiply(list2))"
   ]
  },
  {
   "cell_type": "code",
   "execution_count": 42,
   "metadata": {},
   "outputs": [
    {
     "name": "stdout",
     "output_type": "stream",
     "text": [
      "5040\n"
     ]
    }
   ],
   "source": [
    "#4\n",
    "def factorial(n):\n",
    "    if n == 0:\n",
    "        return 1\n",
    "    else:\n",
    "        return n * factorial(n-1)\n",
    "n = 7\n",
    "print(factorial(n))\n",
    "   \n"
   ]
  },
  {
   "cell_type": "code",
   "execution_count": 3,
   "metadata": {},
   "outputs": [
    {
     "name": "stdout",
     "output_type": "stream",
     "text": [
      "['c', 'b', 'a']\n"
     ]
    }
   ],
   "source": [
    "#5\n",
    "list1 = ['a' , 'b', 'c']\n",
    "def rev(x):\n",
    "    x.reverse()\n",
    "    return x\n",
    "print(rev(list1))"
   ]
  },
  {
   "cell_type": "code",
   "execution_count": 2,
   "metadata": {},
   "outputs": [
    {
     "name": "stdout",
     "output_type": "stream",
     "text": [
      "28\n"
     ]
    }
   ],
   "source": [
    "#6\n",
    "list2 = [1,2,3,4,5,6,7]\n",
    "def sum(x):\n",
    "    n = 0\n",
    "    for i in x:\n",
    "        n = i + n\n",
    "    return n\n",
    "print(sum(list2))"
   ]
  },
  {
   "cell_type": "code",
   "execution_count": 1,
   "metadata": {},
   "outputs": [
    {
     "name": "stdout",
     "output_type": "stream",
     "text": [
      "[1, 2, 3, 4, 5, 6]\n"
     ]
    }
   ],
   "source": [
    "#7\n",
    "data = [1,2,3,4,4,5,6,5,6]\n",
    "def same(x):\n",
    "    list4 = []\n",
    "    for i in x:\n",
    "        if i not in list4:\n",
    "            list4.append(i)\n",
    "    return list4\n",
    "print(same(data))"
   ]
  },
  {
   "cell_type": "code",
   "execution_count": 41,
   "metadata": {},
   "outputs": [
    {
     "name": "stdout",
     "output_type": "stream",
     "text": [
      "95\n"
     ]
    }
   ],
   "source": [
    "#8\n",
    "def hi(x):\n",
    "   Max = 0\n",
    "   for i in x:\n",
    "       if i > Max:\n",
    "           Max=i\n",
    "   return Max\n",
    "\n",
    "List = [1,5,8,77,24,95]\n",
    "print(maximum(List))"
   ]
  },
  {
   "cell_type": "code",
   "execution_count": 2,
   "metadata": {},
   "outputs": [
    {
     "data": {
      "text/plain": [
       "36"
      ]
     },
     "execution_count": 2,
     "metadata": {},
     "output_type": "execute_result"
    }
   ],
   "source": [
    "def sum(x):\n",
    "    n = 0\n",
    "    for i in x:\n",
    "        n = i + n\n",
    "    return n\n",
    "data = [1,2,3,4,4,5,6,5,6]\n",
    "sum(data)"
   ]
  },
  {
   "cell_type": "code",
   "execution_count": null,
   "metadata": {},
   "outputs": [],
   "source": []
  }
 ],
 "metadata": {
  "kernelspec": {
   "display_name": "Python 3",
   "language": "python",
   "name": "python3"
  },
  "language_info": {
   "codemirror_mode": {
    "name": "ipython",
    "version": 3
   },
   "file_extension": ".py",
   "mimetype": "text/x-python",
   "name": "python",
   "nbconvert_exporter": "python",
   "pygments_lexer": "ipython3",
   "version": "3.8.5"
  }
 },
 "nbformat": 4,
 "nbformat_minor": 4
}
