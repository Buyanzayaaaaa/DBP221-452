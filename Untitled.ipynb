{
 "cells": [
  {
   "cell_type": "code",
   "execution_count": 17,
   "metadata": {},
   "outputs": [
    {
     "name": "stdout",
     "output_type": "stream",
     "text": [
      "0.06363636363636363\n",
      "35.49\n"
     ]
    },
    {
     "data": {
      "text/plain": [
       "45.0"
      ]
     },
     "execution_count": 17,
     "metadata": {},
     "output_type": "execute_result"
    }
   ],
   "source": [
    "###function\n",
    "def my_function(x,y, z=1.5): #z=1.5 key word argument undsen utgiig damjuulahad ashiglana #(x,y) positional\n",
    "    if z > 1:\n",
    "        return z * (x + y)\n",
    "    else:\n",
    "        return z /(x +y)\n",
    "print(my_function(5, 6, z = 0.7))\n",
    "print(my_function(3.14, 7, 3.5))\n",
    "my_function(10, 20)"
   ]
  },
  {
   "cell_type": "code",
   "execution_count": 23,
   "metadata": {},
   "outputs": [
    {
     "name": "stdout",
     "output_type": "stream",
     "text": [
      "['inside', 0, 1, 2, 3, 4]\n",
      "['outside']\n"
     ]
    }
   ],
   "source": [
    "###global, local\n",
    "#function dotor zarlagdsan huvisagch local manai a\n",
    "#local huvisagch function ajillaj duussanaar ustana\n",
    "a  =[\"outside\"] #2 a bga hedii c gadna dotor tald bga, \n",
    "def func():\n",
    "    a = [\"inside\"]\n",
    "    for i in range(5):\n",
    "        a.append(i) #dandaa for luu ywj nohtsol shalgana #range(5) =[0,1,2,3,4]\n",
    "    print(a)\n",
    "func()  # ene 2 a chn hoorndo adilhan bsh, function ajilluah uyd uused ur dun harsn uyd ustsan \n",
    "print(a)"
   ]
  },
  {
   "cell_type": "code",
   "execution_count": 24,
   "metadata": {},
   "outputs": [
    {
     "name": "stdout",
     "output_type": "stream",
     "text": [
      "['inside', 0, 1, 2, 3, 4]\n",
      "['inside', 0, 1, 2, 3, 4]\n"
     ]
    }
   ],
   "source": [
    "a  =[\"outside\"]\n",
    "def func():\n",
    "    global a # function dotr ashiglah a-g gadnaas avya, ene 2 a-g ijlhen gej uzya gvl global\n",
    "    a = [\"inside\"]\n",
    "    for i in range(5):\n",
    "        a.append(i)\n",
    "    print(a)\n",
    "func()\n",
    "print(a)"
   ]
  },
  {
   "cell_type": "code",
   "execution_count": 25,
   "metadata": {},
   "outputs": [
    {
     "name": "stdout",
     "output_type": "stream",
     "text": [
      "5 6 7\n"
     ]
    }
   ],
   "source": [
    "###functionaas olon utga butsaana\n",
    "def f():\n",
    "    a = 5\n",
    "    b= 6\n",
    "    c= 7\n",
    "    return a, b, c #tuple butsaaj bn\n",
    "a, b, c = f()\n",
    "print(a, b, c)"
   ]
  },
  {
   "cell_type": "code",
   "execution_count": 26,
   "metadata": {},
   "outputs": [
    {
     "name": "stdout",
     "output_type": "stream",
     "text": [
      "(5, 6, 7)\n"
     ]
    }
   ],
   "source": [
    "def f():\n",
    "    a = 5\n",
    "    b= 6\n",
    "    c= 7\n",
    "    return a, b, c #tuple butsaaj bn\n",
    "return_value = f()\n",
    "print(return_value)"
   ]
  },
  {
   "cell_type": "code",
   "execution_count": 30,
   "metadata": {},
   "outputs": [
    {
     "name": "stdout",
     "output_type": "stream",
     "text": [
      "{'a': 5, 'b': 6, 'c': 7}\n"
     ]
    }
   ],
   "source": [
    "def f():\n",
    "    a = 5\n",
    "    b= 6\n",
    "    c= 7\n",
    "    return{'a' : a, 'b' : b, 'c' : c} # dict 'key' #olon utga butsaamaar bvl listleechdeeee\n",
    "z = f()\n",
    "print(z)"
   ]
  },
  {
   "cell_type": "code",
   "execution_count": 35,
   "metadata": {},
   "outputs": [
    {
     "name": "stdout",
     "output_type": "stream",
     "text": [
      "['Alabama', 'Georgia', 'Georgia', 'Georgia', 'Flirida', 'South Caroline', 'West Virginia']\n"
     ]
    }
   ],
   "source": [
    "#ogodol tseverleh ajil\n",
    "states = [' alabama' , 'Georgia!', 'Georgia', 'georgia', 'FlIrIda', 'south caroline###', 'West vIrginia']\n",
    "import re\n",
    "states = [' alabama' , 'Georgia!', 'Georgia', 'georgia', 'FlIrIda', 'south caroline###', 'West vIrginia?']\n",
    "def clean_string(strings): #neg iim string damjuuldag function def cs(strings) duudj ajluulahdaa zaavl tgh shaardlagaue\n",
    "    result=[] #hooson jagsaalt uusged avlaa\n",
    "    for value in strings: #value gdg huvisagchaar strings ruu usreed orchyoo strings maani ooroo states bolnoo gsn ug\n",
    "        value = value.strip() #alabama d utga onoovol alabamagin zaig n nhno for ajillahin tuld dict tuple list bn\n",
    "        #orluulval alabama = alabama.strip bolnoo gsn ug\n",
    "        # = zuun gar tald bgd n baruun gar taliin utgiig ogdg bhnee\n",
    "        value = re.sub('[!#?]', '', value)\n",
    "        value = value.title() #ehnii usgiig n tom daraagin usgiig n jijig blgn\n",
    "        result.append(value)\n",
    "    return result\n",
    "print(clean_string(states))"
   ]
  },
  {
   "cell_type": "code",
   "execution_count": 40,
   "metadata": {},
   "outputs": [
    {
     "name": "stdout",
     "output_type": "stream",
     "text": [
      "['Alabama', 'Georgia', 'Georgia', 'Georgia', 'Flirida', 'South Caroline', 'West Virginia']\n"
     ]
    }
   ],
   "source": [
    "def remove_punctuation(value):\n",
    "    return re.sub('[!#?>]', '', value)\n",
    "clean_ops = [str.strip, remove_punctuation, str.title] #str.strip 2 taliin zai str=string \n",
    "def clean_strings(strings, ops):\n",
    "    result = []\n",
    "    for value in strings:\n",
    "        for function in ops:\n",
    "            value = function(value) #ehnii utga str strip daraagin utga n remove punc 3 dah ni str.title\n",
    "            #alab = str.strip(alab)\n",
    "        result.append(value) #result = alab\n",
    "    return result\n",
    "print(clean_strings(states, clean_ops)) #function duudahdaa states bolon clean_ops orj irj bgaaa ym"
   ]
  },
  {
   "cell_type": "code",
   "execution_count": 43,
   "metadata": {},
   "outputs": [
    {
     "name": "stdout",
     "output_type": "stream",
     "text": [
      "24\n",
      "24\n"
     ]
    }
   ],
   "source": [
    "#lyambda function 1 morngd ilerhiilegdh hylbr function jijig function\n",
    "#hed hedn argument barij avn lyambda = labmda\n",
    "def short_function(x):\n",
    "    return x * 2\n",
    "multi = lambda x: x * 2\n",
    "print(short_function(12)) #my_function deer 12 iig oruulaad ogchih\n",
    "print(multi(12)) "
   ]
  },
  {
   "cell_type": "code",
   "execution_count": 44,
   "metadata": {},
   "outputs": [
    {
     "name": "stdout",
     "output_type": "stream",
     "text": [
      "[1, 2, 3, 4, 5, 6, 7, 8, 9, 0]\n",
      "[2, 4, 6, 8, 0]\n"
     ]
    }
   ],
   "source": [
    "number = [1,2,3,4,5,6,7,8,9,0]\n",
    "even = list(filter(lambda x: x % 2 == 0, number))\n",
    "print(number)\n",
    "print(even) #nomoo unsh"
   ]
  },
  {
   "cell_type": "code",
   "execution_count": 45,
   "metadata": {},
   "outputs": [],
   "source": [
    "#currying ali hedin uussen bga functionii argumentiig hesegchilj ashiglah talaar\n"
   ]
  },
  {
   "cell_type": "code",
   "execution_count": null,
   "metadata": {},
   "outputs": [],
   "source": [
    "#errors and exception handling\n",
    "# aldaa tohioldvl\n",
    "try #aldaa tohiodohiin bol barij avah bolomj\n",
    "excep # aldaa grsn bol odoo yah ym be\n",
    "else #aldaa tohildohgu bol yahii be"
   ]
  }
 ],
 "metadata": {
  "kernelspec": {
   "display_name": "Python 3",
   "language": "python",
   "name": "python3"
  },
  "language_info": {
   "codemirror_mode": {
    "name": "ipython",
    "version": 3
   },
   "file_extension": ".py",
   "mimetype": "text/x-python",
   "name": "python",
   "nbconvert_exporter": "python",
   "pygments_lexer": "ipython3",
   "version": "3.8.5"
  }
 },
 "nbformat": 4,
 "nbformat_minor": 4
}
